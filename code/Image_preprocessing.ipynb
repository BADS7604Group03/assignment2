{
  "nbformat": 4,
  "nbformat_minor": 0,
  "metadata": {
    "colab": {
      "name": "Image preprocessing.ipynb",
      "provenance": [],
      "collapsed_sections": [
        "VPmCiEcPNJn7",
        "Fwc5lCljNdkL"
      ],
      "machine_shape": "hm",
      "background_execution": "on",
      "mount_file_id": "1P0TgB54FxuK8xEik9EH8YLwnfsISjtF8",
      "authorship_tag": "ABX9TyPrQErUMGRfP2FDHEzqrde8",
      "include_colab_link": true
    },
    "kernelspec": {
      "name": "python3",
      "display_name": "Python 3"
    },
    "language_info": {
      "name": "python"
    }
  },
  "cells": [
    {
      "cell_type": "markdown",
      "metadata": {
        "id": "view-in-github",
        "colab_type": "text"
      },
      "source": [
        "<a href=\"https://colab.research.google.com/github/BADS7604Group03/assignment2/blob/main/code/Image_preprocessing.ipynb\" target=\"_parent\"><img src=\"https://colab.research.google.com/assets/colab-badge.svg\" alt=\"Open In Colab\"/></a>"
      ]
    },
    {
      "cell_type": "markdown",
      "source": [
        "# Prepare the Environment"
      ],
      "metadata": {
        "id": "_HgFweP5M9SS"
      }
    },
    {
      "cell_type": "code",
      "execution_count": 1,
      "metadata": {
        "colab": {
          "base_uri": "https://localhost:8080/"
        },
        "id": "VP8FPsMD5wBc",
        "outputId": "393909a0-45a4-4b36-902e-f1a8d0be806c"
      },
      "outputs": [
        {
          "output_type": "stream",
          "name": "stdout",
          "text": [
            "NVIDIA-SMI has failed because it couldn't communicate with the NVIDIA driver. Make sure that the latest NVIDIA driver is installed and running.\n",
            "\n"
          ]
        }
      ],
      "source": [
        "# List all NVIDIA GPUs as avaiable in this computer (or colub's session)\n",
        "!nvidia-smi -L"
      ]
    },
    {
      "cell_type": "code",
      "source": [
        "import sys, os\n",
        "import numpy as np\n",
        "import matplotlib.pyplot as plt\n",
        "import tensorflow as tf\n",
        "\n",
        "%matplotlib inline\n",
        "print(f\"Python {sys.version}\")\n",
        "print(f\"NumPy {np.__version__}\")\n",
        "print(f\"tf.keras.backend.image_data_format() = {tf.keras.backend.image_data_format()}\")\n",
        "gpus = tf.config.list_physical_devices('GPU')\n",
        "print(f\"Tensorflow detected : {len(gpus)} GPU(s)\")\n",
        "for i,gpu in enumerate(gpus):\n",
        "  print(f\" GPU No. {i} : Name = {gpu.name} , Type = {gpu.device_type}\")\n"
      ],
      "metadata": {
        "colab": {
          "base_uri": "https://localhost:8080/"
        },
        "id": "H2-bQIiy6JKX",
        "outputId": "b88f1bda-2748-4fbf-b787-424691d57e59"
      },
      "execution_count": 2,
      "outputs": [
        {
          "output_type": "stream",
          "name": "stdout",
          "text": [
            "Python 3.7.12 (default, Jan 15 2022, 18:48:18) \n",
            "[GCC 7.5.0]\n",
            "NumPy 1.21.5\n",
            "tf.keras.backend.image_data_format() = channels_last\n",
            "Tensorflow detected : 0 GPU(s)\n"
          ]
        }
      ]
    },
    {
      "cell_type": "markdown",
      "source": [
        "# Load Image to numpy by  tf.keras.preprocessing.image"
      ],
      "metadata": {
        "id": "axWp5bqQNBYU"
      }
    },
    {
      "cell_type": "markdown",
      "source": [
        "## Load file to sample_data"
      ],
      "metadata": {
        "id": "VPmCiEcPNJn7"
      }
    },
    {
      "cell_type": "code",
      "source": [
        "#mount my google drive\n",
        "from google.colab import drive\n",
        "drive.mount('/content/drive')"
      ],
      "metadata": {
        "colab": {
          "base_uri": "https://localhost:8080/"
        },
        "id": "C_j6ZWNa6NH1",
        "outputId": "a9c39088-9980-4264-f384-61f43c78178a"
      },
      "execution_count": 3,
      "outputs": [
        {
          "output_type": "stream",
          "name": "stdout",
          "text": [
            "Drive already mounted at /content/drive; to attempt to forcibly remount, call drive.mount(\"/content/drive\", force_remount=True).\n"
          ]
        }
      ]
    },
    {
      "cell_type": "code",
      "source": [
        "#Change directory to your google drive\n",
        "%cd /content/drive/MyDrive/Colab Notebooks/BADS7604_DL/GroupAssignment02-PictureHashtag/data\n",
        "#Copy file to sample_data\n",
        "%cp './img-food-menu-atmos.tar.gz' '/content/sample_data'"
      ],
      "metadata": {
        "colab": {
          "base_uri": "https://localhost:8080/"
        },
        "id": "8tg1bgnT7EuG",
        "outputId": "bdbc9a6d-f5a8-4303-d853-5f81f3aea759"
      },
      "execution_count": 4,
      "outputs": [
        {
          "output_type": "stream",
          "name": "stdout",
          "text": [
            "/content/drive/MyDrive/Colab Notebooks/BADS7604_DL/GroupAssignment02-PictureHashtag/data\n"
          ]
        }
      ]
    },
    {
      "cell_type": "code",
      "source": [
        "#Change directory to sample_data\n",
        "%cd '/content/sample_data'\n",
        "\n",
        "#Extract file img-food-menu-atmos.tar.gz\n",
        "!tar -xzvf './img-food-menu-atmos.tar.gz'"
      ],
      "metadata": {
        "id": "ge6DRw1h8JY2"
      },
      "execution_count": null,
      "outputs": []
    },
    {
      "cell_type": "markdown",
      "source": [
        "## Read Image and convert to numpy"
      ],
      "metadata": {
        "id": "Fwc5lCljNdkL"
      }
    },
    {
      "cell_type": "code",
      "source": [
        "#Read image and save to dict\n",
        "def read_image(output_size):\n",
        "  \"\"\"\n",
        "  output_size is input_shape that keras model request.\n",
        "  example :\n",
        "  InceptionV3 is (299, 299)\n",
        "  ResNet50 is (224, 224)\n",
        "  NasNetLarge is (331, 331)\n",
        "  NASNetMobile  is (224, 224)\n",
        "  look at https://keras.io/api/applications/\n",
        "\n",
        "  fundtion return x, y and class sequence\n",
        "  \"\"\"\n",
        "  img_dict = {}\n",
        "  for img_class in ['atmosphere','food','menu']:\n",
        "    print(f\"Start read image in {img_class} ...\")\n",
        "    lst_img = []\n",
        "    for img_file in os.listdir(f\"./{img_class}\"):\n",
        "      try :\n",
        "        img = tf.keras.preprocessing.image.load_img(f\"./{img_class}/{img_file}\"  ,target_size=output_size)\n",
        "        img = tf.keras.preprocessing.image.img_to_array(img)\n",
        "        lst_img.append(img)\n",
        "      except :\n",
        "        print(img_file)\n",
        "    img_dict[img_class] = lst_img\n",
        "  atmosphere = np.array(img_dict['atmosphere'])\n",
        "  food = np.array(img_dict['food'])\n",
        "  menu = np.array(img_dict['menu'])\n",
        "  x_image = np.vstack((food, menu, atmosphere))\n",
        "  y_image = np.hstack((np.ones(len(food))*0, np.ones(len(menu))*1, np.ones(len(atmosphere))*2))\n",
        "\n",
        "  return x_image, y_image ,np.array(['atmosphere', 'food', 'menu'])"
      ],
      "metadata": {
        "id": "bVUmbm_m6NqI"
      },
      "execution_count": 32,
      "outputs": []
    },
    {
      "cell_type": "code",
      "source": [
        "x_image, y_image, class_seq = read_image(output_size=(224, 224))\n",
        "print(f\"x_image.shape : {x_image.shape}\")\n",
        "print(f\"y_image.shape : {y_image.shape}\")"
      ],
      "metadata": {
        "colab": {
          "base_uri": "https://localhost:8080/"
        },
        "id": "fYyPkcrfQcZC",
        "outputId": "bf6a4c14-911b-4ca8-9d87-4375f703848e"
      },
      "execution_count": 33,
      "outputs": [
        {
          "output_type": "stream",
          "name": "stdout",
          "text": [
            "Start read image in atmosphere ...\n",
            "Start read image in food ...\n",
            "Start read image in menu ...\n",
            "x_image.shape : (570, 224, 224, 3)\n",
            "y_image.shape : (570,)\n"
          ]
        }
      ]
    },
    {
      "cell_type": "markdown",
      "source": [
        "## Save numpy array"
      ],
      "metadata": {
        "id": "3qXx3t_fVU1s"
      }
    },
    {
      "cell_type": "code",
      "source": [
        "path = \"/content/drive/MyDrive/Colab Notebooks/BADS7604_DL/GroupAssignment02-PictureHashtag/data\"\n",
        "np.save(path+\"/x_image_224_224.npy\"  ,x_image)\n",
        "np.save(path+\"/y_image.npy\"  ,y_image)\n",
        "np.save(path+\"/class_seq.npy\"  ,class_seq)"
      ],
      "metadata": {
        "id": "ht_B_gQSRpVy"
      },
      "execution_count": 36,
      "outputs": []
    }
  ]
}